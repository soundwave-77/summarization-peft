{
 "cells": [
  {
   "cell_type": "code",
   "execution_count": 1,
   "id": "e6d89bf6",
   "metadata": {},
   "outputs": [],
   "source": [
    "import json\n",
    "import random\n",
    "\n",
    "from pprint import pprint\n",
    "\n",
    "from datasets import Dataset, load_dataset\n",
    "from tqdm.notebook import tqdm"
   ]
  },
  {
   "cell_type": "code",
   "execution_count": 2,
   "id": "65ee5f79",
   "metadata": {},
   "outputs": [],
   "source": [
    "SYSTEM_PROMPT = \\\n",
    "\"\"\"\n",
    "Ты — ассистент, который помогает человеку делать суммаризацию текста.\\\n",
    "Твоя задача — формулировать краткое изложение на русском языке, \\\n",
    "точно передавая смысл без искажений и отклонений от оригинала.\n",
    "\"\"\".strip()"
   ]
  },
  {
   "cell_type": "code",
   "execution_count": 3,
   "id": "4159b0c0",
   "metadata": {},
   "outputs": [],
   "source": [
    "def dataset_to_jsonl(\n",
    "    dataset: Dataset,\n",
    "    system_prompt: str,\n",
    "    prompt_column: str,\n",
    "    response_column: str,\n",
    ") -> list[dict]:\n",
    "    lines = []\n",
    "    for sample in tqdm(dataset):\n",
    "        item = {\n",
    "            \"messages\": [\n",
    "                {\"role\": \"system\", \"content\": system_prompt.strip()},\n",
    "                {\"role\": \"user\", \"content\": sample[prompt_column].strip()},\n",
    "                {\"role\": \"assistant\", \"content\": sample[response_column].strip()}\n",
    "            ]\n",
    "        }\n",
    "        lines.append(item)\n",
    "    \n",
    "    return lines"
   ]
  },
  {
   "cell_type": "code",
   "execution_count": 4,
   "id": "d8d6d02b",
   "metadata": {},
   "outputs": [],
   "source": [
    "train_dataset = load_dataset(\"RussianNLP/Mixed-Summarization-Dataset\", split=\"train\")\n",
    "test_dataset = load_dataset(\"RussianNLP/Mixed-Summarization-Dataset\", split=\"test\")"
   ]
  },
  {
   "cell_type": "code",
   "execution_count": 5,
   "id": "19684cd0",
   "metadata": {},
   "outputs": [],
   "source": [
    "train_dataset = train_dataset.shuffle(seed=42).select(range(2000))"
   ]
  },
  {
   "cell_type": "code",
   "execution_count": 6,
   "id": "7e33b656",
   "metadata": {},
   "outputs": [
    {
     "name": "stdout",
     "output_type": "stream",
     "text": [
      "Dataset({\n",
      "    features: ['text', 'summary'],\n",
      "    num_rows: 2000\n",
      "})\n"
     ]
    }
   ],
   "source": [
    "print(train_dataset)"
   ]
  },
  {
   "cell_type": "code",
   "execution_count": 7,
   "id": "41d1d652",
   "metadata": {},
   "outputs": [
    {
     "data": {
      "application/vnd.jupyter.widget-view+json": {
       "model_id": "d0b49ea332a04afeb7dc5407230e9883",
       "version_major": 2,
       "version_minor": 0
      },
      "text/plain": [
       "  0%|          | 0/2000 [00:00<?, ?it/s]"
      ]
     },
     "metadata": {},
     "output_type": "display_data"
    },
    {
     "data": {
      "application/vnd.jupyter.widget-view+json": {
       "model_id": "519676fa40c445899141ceaa76be631b",
       "version_major": 2,
       "version_minor": 0
      },
      "text/plain": [
       "  0%|          | 0/258 [00:00<?, ?it/s]"
      ]
     },
     "metadata": {},
     "output_type": "display_data"
    }
   ],
   "source": [
    "prompt_column=\"text\"\n",
    "response_column=\"summary\"\n",
    "\n",
    "train_jsonl = dataset_to_jsonl(\n",
    "    train_dataset,\n",
    "    system_prompt=SYSTEM_PROMPT,\n",
    "    prompt_column=prompt_column,\n",
    "    response_column=response_column\n",
    ")\n",
    "\n",
    "test_jsonl = dataset_to_jsonl(\n",
    "    test_dataset,\n",
    "    system_prompt=SYSTEM_PROMPT,\n",
    "    prompt_column=prompt_column,\n",
    "    response_column=response_column\n",
    ")"
   ]
  },
  {
   "cell_type": "code",
   "execution_count": 8,
   "id": "4f695124",
   "metadata": {},
   "outputs": [
    {
     "name": "stdout",
     "output_type": "stream",
     "text": [
      "{'messages': [{'content': 'Ты — ассистент, который помогает человеку делать '\n",
      "                          'суммаризацию текста.Твоя задача — формулировать '\n",
      "                          'краткое изложение на русском языке, точно передавая '\n",
      "                          'смысл без искажений и отклонений от оригинала.',\n",
      "               'role': 'system'},\n",
      "              {'content': 'Дай краткое изложением этого текста.\\n'\n",
      "                          ' Вам понадобятся 2 чайные ложки чайных листьев '\n",
      "                          'сорта Кашмир, пол чайной ложки бикарбоната соды '\n",
      "                          '(пищевой соды), 2 раздробленных стручка кардамона, '\n",
      "                          '2 стакана воды, 2 стакана цельного молока и пол '\n",
      "                          'чайной ложки морской соли.  Если у вас нет чая '\n",
      "                          'Кашмир, можно заменить его на обычный зеленый. В '\n",
      "                          'качестве украшения можно добавить в напиток 1,5 '\n",
      "                          'чайные ложки фисташек и миндаля. Вскипятите чай на '\n",
      "                          'среднем огне, а затем добавьте пищевую соду и '\n",
      "                          'энергично взбивайте в течение 10 секунд. Добавьте '\n",
      "                          'второй стакан воды и кардамон, а затем кипятите '\n",
      "                          'чай, пока цвет напитка не изменится на '\n",
      "                          'ярко-красный. Если у вас нет венчика, вилка или '\n",
      "                          'деревянная ложка вполне подойдут. Грейте на среднем '\n",
      "                          'огне и добавьте молоко в кастрюлю. Энергично '\n",
      "                          'взбивайте чай, пока на поверхности не появится '\n",
      "                          'пенка. Добавьте соль, перемешайте и вылейте '\n",
      "                          'жидкость в чашку. Создайте насыщенный вкус с '\n",
      "                          'помощью измельченных фисташек или миндаля. Молоко '\n",
      "                          'придаст чаю темно-розовый окрас. Чем больше молока '\n",
      "                          'вы добавите, тем более разбавленным будет напиток и '\n",
      "                          'насыщеннее его кремовая его текстура.',\n",
      "               'role': 'user'},\n",
      "              {'content': 'Подготовьте необходимые ингредиенты. Смешайте в '\n",
      "                          'кастрюле чай и 1 стакан воды. Добавьте молоко.',\n",
      "               'role': 'assistant'}]}\n"
     ]
    }
   ],
   "source": [
    "pprint(train_jsonl[0])"
   ]
  },
  {
   "cell_type": "code",
   "execution_count": 9,
   "id": "2e421d2a",
   "metadata": {},
   "outputs": [
    {
     "name": "stdout",
     "output_type": "stream",
     "text": [
      "{'messages': [{'content': 'Ты — ассистент, который помогает человеку делать '\n",
      "                          'суммаризацию текста.Твоя задача — формулировать '\n",
      "                          'краткое изложение на русском языке, точно передавая '\n",
      "                          'смысл без искажений и отклонений от оригинала.',\n",
      "               'role': 'system'},\n",
      "              {'content': 'Кратко суммаризируй текст:\\n'\n",
      "                          '\"Если девушка выбирает свой первый мотоцикл, нужно '\n",
      "                          'учесть множество разных факторов. Необходимо '\n",
      "                          'ориентироваться на то, является ли удобным '\n",
      "                          'положение за рулём. Желательно взять ТС на '\n",
      "                          'несколько часов и протестировать, чтобы убедиться в '\n",
      "                          'отсутствии проблем. Хорошо, если можно опробовать '\n",
      "                          'несколько разных мотоциклов и для себя понять, '\n",
      "                          'какая между ними разница.\\n'\n",
      "                          'Разбираясь в том, как выбрать мотоцикл девушке, '\n",
      "                          'нужно учесть следующие моменты. Женщина должна '\n",
      "                          'поворачивать руль в обоих направлениях без '\n",
      "                          'напряжения, с лёгкостью дотягиваться до всех '\n",
      "                          'органов управления. Важно, чтобы удавалось без '\n",
      "                          'труда поставить обе ноги на землю. Отдельно нужно '\n",
      "                          'обратить внимание на расположение тормозного '\n",
      "                          'рычага.\\n'\n",
      "                          'Чтобы обучение прошло легко, нужно купить мотоцикл, '\n",
      "                          'размеры и мощность которого в пределах лёгкой '\n",
      "                          'досягаемости. Это позволит правильно отточить '\n",
      "                          'навыки, а потом можно будет перейти на более '\n",
      "                          'крупную модель.\"',\n",
      "               'role': 'user'},\n",
      "              {'content': 'При выборе первого мотоцикла для девушки, следует '\n",
      "                          'учесть комфорт, удобство управления и доступность '\n",
      "                          'органов управления. Важно опробовать несколько '\n",
      "                          'моделей и проверить, насколько легко ставить ноги '\n",
      "                          'на землю и использовать тормозной рычаг. Для '\n",
      "                          'обучения рекомендуется выбрать мотоцикл с '\n",
      "                          'легкодоступными размерами и мощностью, после чего '\n",
      "                          'можно перейти на более крупную модель.',\n",
      "               'role': 'assistant'}]}\n"
     ]
    }
   ],
   "source": [
    "pprint(test_jsonl[0])"
   ]
  },
  {
   "cell_type": "code",
   "execution_count": 10,
   "id": "3f100f86",
   "metadata": {},
   "outputs": [],
   "source": [
    "def split_train_val(\n",
    "    data: list,\n",
    "    train_ratio: float = 0.8,\n",
    "    seed: int = 42\n",
    "):\n",
    "    assert 0.0 < train_ratio < 1.0, \"train_ratio должен быть между 0 и 1 (не включая границы)\"\n",
    "\n",
    "    rng = random.Random(seed)\n",
    "    indices = list(range(len(data)))\n",
    "    rng.shuffle(indices)\n",
    "\n",
    "    split_idx = int(len(data) * train_ratio)\n",
    "\n",
    "    train_indices = indices[:split_idx]\n",
    "    val_indices  = indices[split_idx:]\n",
    "\n",
    "    train_list = [data[i] for i in train_indices]\n",
    "    val_list  = [data[i] for i in val_indices]\n",
    "\n",
    "    return train_list, val_list"
   ]
  },
  {
   "cell_type": "code",
   "execution_count": 11,
   "id": "bd0518a5",
   "metadata": {},
   "outputs": [],
   "source": [
    "train_jsonl, val_jsonl = split_train_val(train_jsonl)"
   ]
  },
  {
   "cell_type": "code",
   "execution_count": 12,
   "id": "6a1675fd",
   "metadata": {},
   "outputs": [],
   "source": [
    "def write_to_jsonl_file(file_path: str, data: list[dict]):\n",
    "    with open(file_path, \"w\") as file:\n",
    "        for messages in tqdm(data):\n",
    "            json_line = json.dumps(messages, ensure_ascii=False)\n",
    "            file.write(json_line + \"\\n\")"
   ]
  },
  {
   "cell_type": "code",
   "execution_count": 13,
   "id": "0f8bbe8f",
   "metadata": {},
   "outputs": [
    {
     "data": {
      "application/vnd.jupyter.widget-view+json": {
       "model_id": "90071940b4974d2ca408ae964fbecd5a",
       "version_major": 2,
       "version_minor": 0
      },
      "text/plain": [
       "  0%|          | 0/1600 [00:00<?, ?it/s]"
      ]
     },
     "metadata": {},
     "output_type": "display_data"
    }
   ],
   "source": [
    "write_to_jsonl_file(\"../../data/train.jsonl\", train_jsonl)"
   ]
  },
  {
   "cell_type": "code",
   "execution_count": 14,
   "id": "8bcb15eb",
   "metadata": {},
   "outputs": [
    {
     "data": {
      "application/vnd.jupyter.widget-view+json": {
       "model_id": "8f0cc4aa221e4f479339dffab495eeae",
       "version_major": 2,
       "version_minor": 0
      },
      "text/plain": [
       "  0%|          | 0/400 [00:00<?, ?it/s]"
      ]
     },
     "metadata": {},
     "output_type": "display_data"
    }
   ],
   "source": [
    "write_to_jsonl_file(\"../../data/val.jsonl\", val_jsonl)"
   ]
  },
  {
   "cell_type": "code",
   "execution_count": 15,
   "id": "177153bb",
   "metadata": {},
   "outputs": [
    {
     "data": {
      "application/vnd.jupyter.widget-view+json": {
       "model_id": "f38edf10c9f349709e4a5a61ab110f0f",
       "version_major": 2,
       "version_minor": 0
      },
      "text/plain": [
       "  0%|          | 0/258 [00:00<?, ?it/s]"
      ]
     },
     "metadata": {},
     "output_type": "display_data"
    }
   ],
   "source": [
    "write_to_jsonl_file(\"../../data/test.jsonl\", test_jsonl)"
   ]
  },
  {
   "cell_type": "code",
   "execution_count": null,
   "id": "798e1a32",
   "metadata": {},
   "outputs": [],
   "source": []
  }
 ],
 "metadata": {
  "kernelspec": {
   "display_name": "summarization-peft-casQpCI_-py3.13",
   "language": "python",
   "name": "python3"
  },
  "language_info": {
   "codemirror_mode": {
    "name": "ipython",
    "version": 3
   },
   "file_extension": ".py",
   "mimetype": "text/x-python",
   "name": "python",
   "nbconvert_exporter": "python",
   "pygments_lexer": "ipython3",
   "version": "3.13.7"
  }
 },
 "nbformat": 4,
 "nbformat_minor": 5
}
