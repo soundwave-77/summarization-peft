{
 "cells": [
  {
   "cell_type": "code",
   "execution_count": 1,
   "id": "e6d89bf6",
   "metadata": {},
   "outputs": [],
   "source": [
    "import json\n",
    "import random\n",
    "\n",
    "from pprint import pprint\n",
    "\n",
    "from datasets import Dataset, load_dataset\n",
    "from tqdm.notebook import tqdm"
   ]
  },
  {
   "cell_type": "code",
   "execution_count": 2,
   "id": "65ee5f79",
   "metadata": {},
   "outputs": [],
   "source": [
    "SYSTEM_PROMPT = \\\n",
    "\"\"\"\n",
    "Ты — ассистент, который помогает человеку делать суммаризацию текста.\\\n",
    "Твоя задача — формулировать краткое изложение на русском языке, \\\n",
    "точно передавая смысл без искажений и отклонений от оригинала.\n",
    "\"\"\".strip()"
   ]
  },
  {
   "cell_type": "code",
   "execution_count": 3,
   "id": "4159b0c0",
   "metadata": {},
   "outputs": [],
   "source": [
    "def dataset_to_jsonl(\n",
    "    dataset: Dataset,\n",
    "    system_prompt: str,\n",
    "    prompt_column: str,\n",
    "    response_column: str,\n",
    ") -> list[dict]:\n",
    "    lines = []\n",
    "    for sample in tqdm(dataset):\n",
    "        item = {\n",
    "            \"messages\": [\n",
    "                {\"role\": \"system\", \"content\": system_prompt.strip()},\n",
    "                {\"role\": \"user\", \"content\": sample[prompt_column].strip()},\n",
    "                {\"role\": \"assistant\", \"content\": sample[response_column].strip()}\n",
    "            ]\n",
    "        }\n",
    "        lines.append(item)\n",
    "    \n",
    "    return lines"
   ]
  },
  {
   "cell_type": "code",
   "execution_count": 4,
   "id": "d8d6d02b",
   "metadata": {},
   "outputs": [
    {
     "data": {
      "application/vnd.jupyter.widget-view+json": {
       "model_id": "b64ad721f7ca4716ac9b5e57b0458660",
       "version_major": 2,
       "version_minor": 0
      },
      "text/plain": [
       "train/train.parquet:   0%|          | 0.00/538M [00:00<?, ?B/s]"
      ]
     },
     "metadata": {},
     "output_type": "display_data"
    },
    {
     "data": {
      "application/vnd.jupyter.widget-view+json": {
       "model_id": "306e7929e9a142be95fdecd9271c6bb5",
       "version_major": 2,
       "version_minor": 0
      },
      "text/plain": [
       "test/test.parquet:   0%|          | 0.00/605k [00:00<?, ?B/s]"
      ]
     },
     "metadata": {},
     "output_type": "display_data"
    },
    {
     "data": {
      "application/vnd.jupyter.widget-view+json": {
       "model_id": "2768784c6cda42789a683249964fe526",
       "version_major": 2,
       "version_minor": 0
      },
      "text/plain": [
       "Generating train split:   0%|          | 0/197561 [00:00<?, ? examples/s]"
      ]
     },
     "metadata": {},
     "output_type": "display_data"
    },
    {
     "data": {
      "application/vnd.jupyter.widget-view+json": {
       "model_id": "aa7964e5f5a3437eb92b4207a5b19fc1",
       "version_major": 2,
       "version_minor": 0
      },
      "text/plain": [
       "Generating test split:   0%|          | 0/258 [00:00<?, ? examples/s]"
      ]
     },
     "metadata": {},
     "output_type": "display_data"
    }
   ],
   "source": [
    "train_dataset = load_dataset(\"RussianNLP/Mixed-Summarization-Dataset\", split=\"train\")\n",
    "test_dataset = load_dataset(\"RussianNLP/Mixed-Summarization-Dataset\", split=\"test\")"
   ]
  },
  {
   "cell_type": "code",
   "execution_count": 5,
   "id": "7e33b656",
   "metadata": {},
   "outputs": [
    {
     "name": "stdout",
     "output_type": "stream",
     "text": [
      "Dataset({\n",
      "    features: ['text', 'summary'],\n",
      "    num_rows: 197561\n",
      "})\n"
     ]
    }
   ],
   "source": [
    "print(train_dataset)"
   ]
  },
  {
   "cell_type": "code",
   "execution_count": 6,
   "id": "41d1d652",
   "metadata": {},
   "outputs": [
    {
     "data": {
      "application/vnd.jupyter.widget-view+json": {
       "model_id": "cc85fc1ed0df4737a5b90420d00d8f5f",
       "version_major": 2,
       "version_minor": 0
      },
      "text/plain": [
       "  0%|          | 0/197561 [00:00<?, ?it/s]"
      ]
     },
     "metadata": {},
     "output_type": "display_data"
    },
    {
     "data": {
      "application/vnd.jupyter.widget-view+json": {
       "model_id": "d0e0673eac064909be9267164b392730",
       "version_major": 2,
       "version_minor": 0
      },
      "text/plain": [
       "  0%|          | 0/258 [00:00<?, ?it/s]"
      ]
     },
     "metadata": {},
     "output_type": "display_data"
    }
   ],
   "source": [
    "prompt_column=\"text\"\n",
    "response_column=\"summary\"\n",
    "\n",
    "train_jsonl = dataset_to_jsonl(\n",
    "    train_dataset,\n",
    "    system_prompt=SYSTEM_PROMPT,\n",
    "    prompt_column=prompt_column,\n",
    "    response_column=response_column\n",
    ")\n",
    "\n",
    "test_jsonl = dataset_to_jsonl(\n",
    "    test_dataset,\n",
    "    system_prompt=SYSTEM_PROMPT,\n",
    "    prompt_column=prompt_column,\n",
    "    response_column=response_column\n",
    ")"
   ]
  },
  {
   "cell_type": "code",
   "execution_count": 7,
   "id": "4f695124",
   "metadata": {},
   "outputs": [
    {
     "name": "stdout",
     "output_type": "stream",
     "text": [
      "{'messages': [{'content': 'Ты — ассистент, который помогает человеку делать '\n",
      "                          'суммаризацию текста.Твоя задача — формулировать '\n",
      "                          'краткое изложение на русском языке, точно передавая '\n",
      "                          'смысл без искажений и отклонений от оригинала.',\n",
      "               'role': 'system'},\n",
      "              {'content': 'Сократи текст.\\n'\n",
      "                          ' Картер Пейдж в нулевые годы занимался бизнесом в '\n",
      "                          'России Отвечая на вопрос демократа из штата '\n",
      "                          'Калифорния Адама Шиффа, он признал, что контакт '\n",
      "                          'состоялся на конференции по случаю очередного '\n",
      "                          'выпуска в Российской экономической школе в Сколкове '\n",
      "                          'в июле 2016 года, сообщила New York Times. Пейдж '\n",
      "                          'подтвердил данную информацию телеканалу Си-эн-эн '\n",
      "                          'вечером в пятницу. По его словам, это было \"не '\n",
      "                          'больше, чем обмен приветствиями между людьми на '\n",
      "                          'публичном мероприятии\". В предыдущих интервью Пейдж '\n",
      "                          'утверждал, что общался в Москве только с учеными и '\n",
      "                          '\"несколькими бизнесменами, которых я знаю больше '\n",
      "                          'десяти лет\". Прошлогодняя поездка Пейджа в Москву '\n",
      "                          'привлекла повышенное внимание, поскольку он '\n",
      "                          'выступил на конференции с речью, во многом '\n",
      "                          'перекликавшейся со взглядами на мировую политику '\n",
      "                          'российского президента Владимира Путина. \"Вашингтон '\n",
      "                          'и другие западные столицы снизили потенциал '\n",
      "                          'прогресса [в отношениях с Россией] своей зачастую '\n",
      "                          'лицемерной приверженностью идеям демократизации, '\n",
      "                          'борьбы с неравенством и коррупцией и смены '\n",
      "                          'режимов\", - заявил, в частности, сотрудник штаба '\n",
      "                          'кандидата Трампа. На заседании комитета Палаты '\n",
      "                          'представителей в минувший четверг было зачитано '\n",
      "                          'вслух электронное письмо Пейджа старшему советнику '\n",
      "                          'Трампа, ныне министру юстиции США Джеффу Сешнсу, в '\n",
      "                          'котором он доложил о впечатлениях от своих встреч в '\n",
      "                          'Москве. Его содержание пока не разглашается. '\n",
      "                          '45-летний Аркадий Дворкович курирует в российском '\n",
      "                          'правительстве ТЭК и считается человеком, близким к '\n",
      "                          'премьеру Дмитрию Медведеву Вскоре после поездки в '\n",
      "                          'Москву Пейдж покинул предвыборный штаб Трампа. В '\n",
      "                          'декабре 2016 года, уже в качестве частного лица, он '\n",
      "                          'еще раз ездил в российскую столицу, по его словам, '\n",
      "                          'чтобы \"встретиться с лидерами делового и '\n",
      "                          'интеллектуального мира\". Пресс-секретарь '\n",
      "                          'российского президента Дмитрий Песков тогда заявил, '\n",
      "                          'что в Кремле не имели никаких контактов с Пейджем и '\n",
      "                          'узнали его имя из СМИ. На заседании комитета Пейджа '\n",
      "                          'спрашивали также о его четырехдневной поездке в '\n",
      "                          'Будапешт в начале сентября прошлого года. Он '\n",
      "                          'ответил, что ездил в Венгрию как турист, осматривал '\n",
      "                          'достопримечательности, катался на теплоходе по '\n",
      "                          'Дунаю, посетил джазовый клуб и не встречался там ни '\n",
      "                          'с одним русским. 31 октября спецпрокурор Роберт '\n",
      "                          'Мюллер, занимающийся расследованием российского '\n",
      "                          'вмешательства в американские выборы, сообщил, что '\n",
      "                          'другой сотрудник штаба Трампа, Джордж Пападопулос, '\n",
      "                          'встречался в 2016 году с неофициальными '\n",
      "                          'представителями Москвы, обещавшими ему компромат на '\n",
      "                          'Хиллари Клинтон. Как экс-советник штаба Трампа врал '\n",
      "                          'ФБР о связях с Россией 46-летний Картер Пейдж '\n",
      "                          'состоял в предвыборном штабе Дональда Трампа с '\n",
      "                          'марта по август 2016 года. Ранее он окончил '\n",
      "                          'военно-морскую академию в Аннаполисе и прослужил '\n",
      "                          'пять лет во флоте. Уйдя в отставку, в 2004-2007 '\n",
      "                          'годах работал в московском офисе Merrill Lynch, '\n",
      "                          'затем основал собственную инвестиционную фирму '\n",
      "                          'Global Energy Capital. Его деловым партнером был, в '\n",
      "                          'частности, замглавы финансового департамента '\n",
      "                          '\"Газпрома\" Сергей Яценко. В 2013 году ФБР допросило '\n",
      "                          'Пейджа в связи с разговором, имевшим место на '\n",
      "                          'энергетическом симпозиуме между ним и российским '\n",
      "                          'гражданином, изобличенным как офицер разведки. '\n",
      "                          'Пейдж сказал, что считал собеседника бизнесменом.',\n",
      "               'role': 'user'},\n",
      "              {'content': 'Бывший советник предвыборного штаба Дональда Трампа '\n",
      "                          'по внешней политике Картер Пейдж на заседании '\n",
      "                          'комитета Палаты представителей по разведке '\n",
      "                          'подтвердил факт общения с российским вице-премьером '\n",
      "                          'Аркадием Дворковичем.',\n",
      "               'role': 'assistant'}]}\n"
     ]
    }
   ],
   "source": [
    "pprint(train_jsonl[0])"
   ]
  },
  {
   "cell_type": "code",
   "execution_count": 8,
   "id": "2e421d2a",
   "metadata": {},
   "outputs": [
    {
     "name": "stdout",
     "output_type": "stream",
     "text": [
      "{'messages': [{'content': 'Ты — ассистент, который помогает человеку делать '\n",
      "                          'суммаризацию текста.Твоя задача — формулировать '\n",
      "                          'краткое изложение на русском языке, точно передавая '\n",
      "                          'смысл без искажений и отклонений от оригинала.',\n",
      "               'role': 'system'},\n",
      "              {'content': 'Кратко суммаризируй текст:\\n'\n",
      "                          '\"Если девушка выбирает свой первый мотоцикл, нужно '\n",
      "                          'учесть множество разных факторов. Необходимо '\n",
      "                          'ориентироваться на то, является ли удобным '\n",
      "                          'положение за рулём. Желательно взять ТС на '\n",
      "                          'несколько часов и протестировать, чтобы убедиться в '\n",
      "                          'отсутствии проблем. Хорошо, если можно опробовать '\n",
      "                          'несколько разных мотоциклов и для себя понять, '\n",
      "                          'какая между ними разница.\\n'\n",
      "                          'Разбираясь в том, как выбрать мотоцикл девушке, '\n",
      "                          'нужно учесть следующие моменты. Женщина должна '\n",
      "                          'поворачивать руль в обоих направлениях без '\n",
      "                          'напряжения, с лёгкостью дотягиваться до всех '\n",
      "                          'органов управления. Важно, чтобы удавалось без '\n",
      "                          'труда поставить обе ноги на землю. Отдельно нужно '\n",
      "                          'обратить внимание на расположение тормозного '\n",
      "                          'рычага.\\n'\n",
      "                          'Чтобы обучение прошло легко, нужно купить мотоцикл, '\n",
      "                          'размеры и мощность которого в пределах лёгкой '\n",
      "                          'досягаемости. Это позволит правильно отточить '\n",
      "                          'навыки, а потом можно будет перейти на более '\n",
      "                          'крупную модель.\"',\n",
      "               'role': 'user'},\n",
      "              {'content': 'При выборе первого мотоцикла для девушки, следует '\n",
      "                          'учесть комфорт, удобство управления и доступность '\n",
      "                          'органов управления. Важно опробовать несколько '\n",
      "                          'моделей и проверить, насколько легко ставить ноги '\n",
      "                          'на землю и использовать тормозной рычаг. Для '\n",
      "                          'обучения рекомендуется выбрать мотоцикл с '\n",
      "                          'легкодоступными размерами и мощностью, после чего '\n",
      "                          'можно перейти на более крупную модель.',\n",
      "               'role': 'assistant'}]}\n"
     ]
    }
   ],
   "source": [
    "pprint(test_jsonl[0])"
   ]
  },
  {
   "cell_type": "code",
   "execution_count": 9,
   "id": "3f100f86",
   "metadata": {},
   "outputs": [],
   "source": [
    "def split_train_val(\n",
    "    data: list,\n",
    "    train_ratio: float = 0.8,\n",
    "    seed: int = 42,\n",
    "    train_size: int | None = None,\n",
    "    val_size: int | None = None\n",
    ") -> tuple[list, list]:\n",
    "    dataset_size = len(data)\n",
    "\n",
    "    rng = random.Random(seed)\n",
    "    indices = list(range(dataset_size))\n",
    "    rng.shuffle(indices)\n",
    "\n",
    "    if train_size is not None and val_size is not None:\n",
    "        subset_size = train_size + val_size\n",
    "        assert 0 < subset_size <= dataset_size, f\"train_size + val_size должно быть в диапазоне [1, {dataset_size}]\"\n",
    "\n",
    "        subset_indices = indices[:subset_size]\n",
    "        train_indices = subset_indices[:train_size]\n",
    "        val_indices = subset_indices[train_size:train_size + val_size]\n",
    "\n",
    "    else:\n",
    "        assert 0.0 < train_ratio < 1.0, \"train_ratio должен быть между 0 и 1\"\n",
    "\n",
    "        split_idx = int(dataset_size * train_ratio)\n",
    "        \n",
    "        train_indices = indices[:split_idx]\n",
    "        val_indices = indices[split_idx:]\n",
    "\n",
    "    train_list = [data[i] for i in train_indices]\n",
    "    val_list = [data[i] for i in val_indices]\n",
    "\n",
    "    return train_list, val_list\n"
   ]
  },
  {
   "cell_type": "code",
   "execution_count": 10,
   "id": "bd0518a5",
   "metadata": {},
   "outputs": [],
   "source": [
    "train_size = 10_000\n",
    "val_size = 2000\n",
    "\n",
    "train_jsonl, val_jsonl = split_train_val(train_jsonl, train_size=train_size, val_size=val_size)\n",
    "\n",
    "assert len(train_jsonl) == train_size\n",
    "assert len(val_jsonl) == val_size"
   ]
  },
  {
   "cell_type": "code",
   "execution_count": 11,
   "id": "6a1675fd",
   "metadata": {},
   "outputs": [],
   "source": [
    "def write_to_jsonl_file(file_path: str, data: list[dict]):\n",
    "    with open(file_path, \"w\") as file:\n",
    "        for messages in tqdm(data):\n",
    "            json_line = json.dumps(messages, ensure_ascii=False)\n",
    "            file.write(json_line + \"\\n\")"
   ]
  },
  {
   "cell_type": "code",
   "execution_count": 12,
   "id": "0f8bbe8f",
   "metadata": {},
   "outputs": [
    {
     "data": {
      "application/vnd.jupyter.widget-view+json": {
       "model_id": "1ce8673cf74841799c5418a9fe4cc034",
       "version_major": 2,
       "version_minor": 0
      },
      "text/plain": [
       "  0%|          | 0/10000 [00:00<?, ?it/s]"
      ]
     },
     "metadata": {},
     "output_type": "display_data"
    }
   ],
   "source": [
    "write_to_jsonl_file(\"../../data/train.jsonl\", train_jsonl)"
   ]
  },
  {
   "cell_type": "code",
   "execution_count": 13,
   "id": "8bcb15eb",
   "metadata": {},
   "outputs": [
    {
     "data": {
      "application/vnd.jupyter.widget-view+json": {
       "model_id": "e89fd7c4d16f48bdbca525252041b9a6",
       "version_major": 2,
       "version_minor": 0
      },
      "text/plain": [
       "  0%|          | 0/2000 [00:00<?, ?it/s]"
      ]
     },
     "metadata": {},
     "output_type": "display_data"
    }
   ],
   "source": [
    "write_to_jsonl_file(\"../../data/val.jsonl\", val_jsonl)"
   ]
  },
  {
   "cell_type": "code",
   "execution_count": 14,
   "id": "177153bb",
   "metadata": {},
   "outputs": [
    {
     "data": {
      "application/vnd.jupyter.widget-view+json": {
       "model_id": "fea3f2a8be0449dd877d5af640dd640a",
       "version_major": 2,
       "version_minor": 0
      },
      "text/plain": [
       "  0%|          | 0/258 [00:00<?, ?it/s]"
      ]
     },
     "metadata": {},
     "output_type": "display_data"
    }
   ],
   "source": [
    "write_to_jsonl_file(\"../../data/test.jsonl\", test_jsonl)"
   ]
  },
  {
   "cell_type": "code",
   "execution_count": null,
   "id": "798e1a32",
   "metadata": {},
   "outputs": [],
   "source": []
  }
 ],
 "metadata": {
  "kernelspec": {
   "display_name": "summarization-peft",
   "language": "python",
   "name": "python3"
  },
  "language_info": {
   "codemirror_mode": {
    "name": "ipython",
    "version": 3
   },
   "file_extension": ".py",
   "mimetype": "text/x-python",
   "name": "python",
   "nbconvert_exporter": "python",
   "pygments_lexer": "ipython3",
   "version": "3.13.7"
  }
 },
 "nbformat": 4,
 "nbformat_minor": 5
}
