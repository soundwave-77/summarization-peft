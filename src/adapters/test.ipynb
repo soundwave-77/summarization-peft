{
 "cells": [
  {
   "cell_type": "code",
   "execution_count": 5,
   "id": "ca7e8bf2",
   "metadata": {},
   "outputs": [],
   "source": [
    "from src.adapters.params import PromptTuningParams"
   ]
  },
  {
   "cell_type": "code",
   "execution_count": 10,
   "id": "20f5b0f9",
   "metadata": {},
   "outputs": [],
   "source": [
    "params = PromptTuningParams()"
   ]
  },
  {
   "cell_type": "code",
   "execution_count": 11,
   "id": "58b0916c",
   "metadata": {},
   "outputs": [
    {
     "data": {
      "text/plain": [
       "'PromptTuning_vt2_init_RANDOM'"
      ]
     },
     "execution_count": 11,
     "metadata": {},
     "output_type": "execute_result"
    }
   ],
   "source": [
    "params._experiment_name()"
   ]
  },
  {
   "cell_type": "code",
   "execution_count": null,
   "id": "31cca45e",
   "metadata": {},
   "outputs": [],
   "source": []
  }
 ],
 "metadata": {
  "kernelspec": {
   "display_name": "summarization-peft-casQpCI_-py3.13",
   "language": "python",
   "name": "python3"
  },
  "language_info": {
   "codemirror_mode": {
    "name": "ipython",
    "version": 3
   },
   "file_extension": ".py",
   "mimetype": "text/x-python",
   "name": "python",
   "nbconvert_exporter": "python",
   "pygments_lexer": "ipython3",
   "version": "3.13.7"
  }
 },
 "nbformat": 4,
 "nbformat_minor": 5
}
